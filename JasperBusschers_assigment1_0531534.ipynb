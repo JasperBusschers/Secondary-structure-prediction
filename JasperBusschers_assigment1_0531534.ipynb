{
 "cells": [
  {
   "cell_type": "markdown",
   "metadata": {},
   "source": [
    "# Assignment 1 : Secondary structure prediction <br>\n",
    "In this project we are going to perform protein secondary structure (PSS) prediction and protein family prediction on 2 datasets.<br>\n",
    "Both these predictions are done using suport vector machines (SVM) and validated using cross validation. <br>\n",
    "\n",
    "We are using the sklearn implementation for accuracy metrices and implementation for the SVM.\n"
   ]
  },
  {
   "cell_type": "code",
   "execution_count": 1,
   "metadata": {},
   "outputs": [],
   "source": [
    "import numpy as np\n",
    "import string\n",
    "import os\n",
    "from sklearn.svm import LinearSVC, SVC\n",
    "from sklearn.metrics import classification_report , confusion_matrix\n",
    "from sklearn.model_selection import KFold\n",
    "np.random.seed(123)"
   ]
  },
  {
   "cell_type": "markdown",
   "metadata": {},
   "source": [
    "### Our global variables <br>\n",
    "The code below defines the different values for secondary structures, amino acids and protein families. <br>\n",
    "It also contains 2 different hyper parameters, the first being the neighboorhood size, this defines how many neighboors are considered in the feature extraction. <br>\n",
    "The second hyper parameter defines the max iterations, the suport vector machine may train. While the suport vector. <br>\n",
    "\n",
    "The name of the output file that has to be written to can also be configured here. <br>\n"
   ]
  },
  {
   "cell_type": "code",
   "execution_count": 2,
   "metadata": {},
   "outputs": [],
   "source": [
    "frequencies = np.zeros([3,20])\n",
    "labels = [ 'Beta', 'Coil' , 'Helix']\n",
    "natural_acid = ['ALA' , 'ARG', 'ASN', 'ASP', 'CYS' ,'GLN', 'GLU', 'GLY','HIS','ILE','LEU', 'LYS', 'MET', 'PHE', 'PRO', 'SER', 'THR', 'TRP', 'TYR', 'VAL']\n",
    "families = [\"Beta\", \"Alpha\",\"Alpha/beta\"]\n",
    "outputfile = \"output.txt\"\n",
    "neighboors = 10 #for sliding windows, neighboors at both directions\n",
    "Max_iterations = 50"
   ]
  },
  {
   "cell_type": "markdown",
   "metadata": {},
   "source": [
    "### Defining functions to read in the data"
   ]
  },
  {
   "cell_type": "markdown",
   "metadata": {},
   "source": [
    "The code below defines functions for reading the different kinds of data files.<br>\n",
    "The family data file contains a list of protein id's allong with their corresponding protein family. <br>\n",
    "This is returned as a dictionary, with as keys the pdb code of that protein. <br>\n",
    "\n",
    "\n",
    "The PSS data contains protein sequences that were also found in the family data, here every amino acid of that sequence is listed allong with its corresponding secondary structure. <br>\n",
    "The dataset is returned as input and target set to be preprocessed later, another dictionary is also returned that contains the secondary structures and takes as key the PDB code. \n"
   ]
  },
  {
   "cell_type": "code",
   "execution_count": 3,
   "metadata": {},
   "outputs": [],
   "source": [
    "#loading data\n",
    "\n",
    "def loadFamily_data():\n",
    "    file = open(\"cath_info.txt\",\"r\")\n",
    "    PDB_TO_FAMILY = {}\n",
    "    for line in file:\n",
    "        line = line.replace(\"\\n\", \"\")\n",
    "        pdb, chain, family = line.split(\"\\t\")\n",
    "        if family in families:\n",
    "            PDB_TO_FAMILY[pdb] = family\n",
    "    return PDB_TO_FAMILY\n",
    "    \n",
    "def loadPSS_data(filename):\n",
    "    data_x = []\n",
    "    data_y = []\n",
    "    secondaryStructure = {}\n",
    "    file = open(  filename,\"r\")\n",
    "    last_pdb = \"\"\n",
    "    x_sequence = []\n",
    "    y_sequence = []\n",
    "    for line in file:\n",
    "        line = line.replace(\"\\n\", \"\")\n",
    "        pdb, chain, sequence_number,residue, secondary_structure = line.split(\"\\t\")\n",
    "        if pdb == last_pdb and residue in natural_acid:\n",
    "            x_sequence.append(residue)\n",
    "            y_sequence.append(secondary_structure)\n",
    "            if secondary_structure in labels:\n",
    "                index_label = labels.index(secondary_structure)\n",
    "            else: \n",
    "                index_label = 1\n",
    "            frequencies[index_label, natural_acid.index(residue)] += 1\n",
    "        elif  residue in natural_acid:\n",
    "            data_y.append(y_sequence)\n",
    "            data_x.append(x_sequence)\n",
    "            x_sequence = [residue]\n",
    "            y_sequence = [secondary_structure]\n",
    "            secondaryStructure[pdb] = y_sequence\n",
    "        last_pdb = pdb\n",
    "    return data_x[1:] , data_y[1:], secondaryStructure"
   ]
  },
  {
   "cell_type": "markdown",
   "metadata": {},
   "source": [
    "## defining our preprocessing"
   ]
  },
  {
   "cell_type": "markdown",
   "metadata": {},
   "source": [
    "The feature extraction for PSS prediction is inspired by the paper \"A protein secondary structure prediction framework based on the Extreme Learning Machine\".\n",
    "https://www.sciencedirect.com/science/article/pii/S0925231208001094 <br>\n",
    "Here they used a one hot vector Vi, which we multiply by a so called statistics vector. This vector combines the probability of the structure occuring for that residue. And also the probability of an amino acid appearing in the same structure. <br>\n",
    "\n",
    "The feature size of each residue is 23, the first 20 represent the statistics vector. Whereas the last 3 last features contain the self information for each secondary structure. <br>\n",
    "\n",
    "The features that are used for the protein family prediction, are the frequencies of each secondary structure within a single protein sequence. The feature size is 3."
   ]
  },
  {
   "cell_type": "code",
   "execution_count": 4,
   "metadata": {},
   "outputs": [],
   "source": [
    "# This function computes the self information given a residue and secondary structure.\n",
    "# input:\n",
    "# res : string \n",
    "# struct : string\n",
    "# output : float\n",
    "def self_information(struct, res):\n",
    "    res = natural_acid.index(res)\n",
    "    if struct in labels:\n",
    "        struct = labels.index(struct)\n",
    "    else: \n",
    "        struct = 1\n",
    "    val = (frequencies[struct,res] / np.sum(frequencies[:,res]))/ (np.sum(frequencies[struct,:]) / np.sum(frequencies))\n",
    "    information = np.log(val)\n",
    "    return information\n",
    "\n",
    "\n",
    "# This function computes extra statistics features\n",
    "# input:\n",
    "# res : int \n",
    "# struct : int\n",
    "# output : float\n",
    "def extra_statistics_features(struct,res):\n",
    "    Ni_x = frequencies[struct,res]\n",
    "    Ni = np.sum(frequencies[:,res])\n",
    "    Min_val = np.min(frequencies[:,res])\n",
    "    val =  ( Ni_x / Min_val) * (Ni_x/Ni) \n",
    "    return val\n",
    "\n",
    "\n",
    "# This creates feature vector given a residue\n",
    "# input:\n",
    "# residue : string \n",
    "# output : array([23])\n",
    "def process_residue(residue):\n",
    "    informations = [  self_information(struct, residue)  for struct in labels ]\n",
    "    GORI = np.argmax(informations)\n",
    "    if residue in natural_acid:\n",
    "            Residue=natural_acid.index(residue)\n",
    "    else:\n",
    "            Residue= 0\n",
    "    res = np.zeros([20+3])\n",
    "    res [Residue] =extra_statistics_features(GORI,Residue)\n",
    "    for i in range (0,len(labels)):\n",
    "        res[20+i] = informations[i]\n",
    "    return res\n",
    "\n",
    "\n",
    "# This function replaces secondary structures, by the corresponding integer number.\n",
    "# input:\n",
    "# structures: list\n",
    "# output : list\n",
    "def preprocess_structure(structures):\n",
    "    structures_ = structures[:]\n",
    "    for i,  y in enumerate( structures_):\n",
    "        if y in labels:\n",
    "            structures_[i] = labels.index(y)\n",
    "        else: \n",
    "            structures_[i] = 1\n",
    "    return structures_\n",
    "\n",
    "\n",
    "# This function takes as input a complete dataset and performs the preprocessing on it.\n",
    "# input:\n",
    "# x : list \n",
    "# y : list\n",
    "# output : list , list\n",
    "def preprocess_PSS_data(x,y):\n",
    "    X,Y = x[:] , y[:]\n",
    "    Data_X,Data_Y= [] , []\n",
    "    for i,x in enumerate(X):\n",
    "        y = Y[i]\n",
    "        Data_X.append([process_residue(r) for r in x])\n",
    "        Data_Y.append(preprocess_structure(y))\n",
    "    return Data_X,Data_Y\n",
    "\n",
    "\n"
   ]
  },
  {
   "cell_type": "markdown",
   "metadata": {},
   "source": [
    "## creating datasets for machine learning <br>\n",
    "The last block discussed the preproccessing to extract features for both datasets. Here below we will define 2 functions that return us a dataset that is ready to be used as input for the suport vector machine. <br>\n",
    "\n",
    "The function createPSS_Dataset goes over every every residue and appends the information of its neighboors to the sample.  "
   ]
  },
  {
   "cell_type": "code",
   "execution_count": 5,
   "metadata": {},
   "outputs": [],
   "source": [
    "# This function creates new samples by combining the current residue, and its neighboors.\n",
    "# input:\n",
    "# x : list \n",
    "# y : list\n",
    "# output : list,list\n",
    "def createPSS_Dataset(x,y):\n",
    "    X_Data = []\n",
    "    Y_Data = []\n",
    "    for i, sequnce in enumerate(x):\n",
    "        for j, residue in enumerate(sequnce):\n",
    "            prev = np.zeros([23*neighboors]).tolist()\n",
    "            if j >= neighboors:\n",
    "                prev = []\n",
    "                for k in range(0,neighboors):\n",
    "                    prev.extend(sequnce[j-k].tolist())\n",
    "            next = np.zeros([23*neighboors]).tolist()\n",
    "            if j < len(sequnce) - neighboors:\n",
    "                next = []\n",
    "                for k in range(0,neighboors):\n",
    "                    next.extend(sequnce[j+k].tolist())\n",
    "            x_sample = prev\n",
    "            x_sample.extend(residue.tolist())\n",
    "            x_sample.extend(next)\n",
    "            y_sample = y[i][j]\n",
    "            X_Data.append(x_sample)\n",
    "            Y_Data.append(y_sample)\n",
    "    return X_Data,Y_Data\n",
    "\n",
    "# This function generates the dataset for family prediction.\n",
    "# input:\n",
    "# dict_ss : dictionary \n",
    "# dict_fam : dictionary\n",
    "# output : array, array\n",
    "def createFamily_dataset(dict_ss, dict_fam):\n",
    "    x = []\n",
    "    y = []\n",
    "    for key in dict_ss:\n",
    "        sequence= dict_ss[key]\n",
    "        if key in dict_fam:\n",
    "            x_feature = np.zeros([3])\n",
    "            for SS in sequence: \n",
    "                if type(SS) is str and SS in labels:\n",
    "                    SS = labels.index(SS)\n",
    "                elif type(SS) is str and SS not in labels:\n",
    "                    SS = 1\n",
    "                x_feature[SS] += 1\n",
    "            x_feature = x_feature/np.sum(x_feature)\n",
    "            x.append(x_feature)\n",
    "            y.append(families.index(dict_fam[key]))\n",
    "    return np.asarray(x),  np.asarray(y)"
   ]
  },
  {
   "cell_type": "markdown",
   "metadata": {},
   "source": [
    "### define accuracy measurements\n",
    "Below we define some functions for calculating and discplaying different accuracy measurements. It contains a MCC and Q1 score for each classification aswell as Q3 score."
   ]
  },
  {
   "cell_type": "code",
   "execution_count": 6,
   "metadata": {},
   "outputs": [],
   "source": [
    "#Prints out the validation metrices for a given model\n",
    "def printResult(y_test,X_test, model,family=False):\n",
    "    matrix = confusion_matrix(y_test, model.predict(X_test))\n",
    "    print(classification_report(y_test, model.predict(X_test)))\n",
    "    q3,mcc =printStats(matrix)\n",
    "    return matrix ,q3,mcc\n",
    "\n",
    "def printStats(matrix,family=False):\n",
    "    i = 0\n",
    "    MCC = MCCscore(matrix)\n",
    "    Q1 = Q1Score(matrix)\n",
    "    for mcc , q1 in zip ( MCC , Q1):\n",
    "        l = labels[i]\n",
    "        if family:\n",
    "            l= families[i]\n",
    "        i+=1\n",
    "        print(\"The MCC score for \" + l + \" equal \" + str(mcc))\n",
    "        print(\"The Q1 score for \" + l + \" equal \" + str(q1))\n",
    "    print(\"mean MCC score = \" + str(np.mean(MCC)))\n",
    "    print(\"mean Q1 score = \" + str(np.mean(Q1)))\n",
    "    correct = matrix[1][1] +matrix[0][0] + matrix[2][2]\n",
    "    q3 = correct / np.sum(matrix)\n",
    "    print (\"Q3 score = \" + str(q3))\n",
    "    return q3, np.mean(MCC)\n",
    "\n",
    "\n",
    "def Q1Score (matrix):\n",
    "    res = np.zeros(matrix.shape[0])\n",
    "    for i in range (0,len(res)):\n",
    "        total = np.sum(matrix[i])\n",
    "        correct = matrix[i][i]\n",
    "        res[i] += float(correct)/float(total)\n",
    "    return res\n",
    "\n",
    "def MCCscore(matrix):\n",
    "    res = np.zeros(matrix.shape[0])\n",
    "    for i in range (0,len(res)):\n",
    "        TP = matrix[i][i]\n",
    "        TN = np.sum ( np.delete (np.delete(matrix, i, 0), i, 1))\n",
    "        FP = np.sum(matrix[:,i])-TP\n",
    "        FN = np.sum(matrix[i,:]) - TP\n",
    "        mcc = (TP*TN - FP * FN) / np.sqrt( (TP+FP) * (TP+FN) * (TN+FP) * (TN+FN) )\n",
    "        res[i] += mcc\n",
    "    return res\n",
    "        \n"
   ]
  },
  {
   "cell_type": "markdown",
   "metadata": {},
   "source": [
    "## Cross validation <br>\n",
    "The code below is used to split the dataset in multiple sets used for cross validation.  "
   ]
  },
  {
   "cell_type": "code",
   "execution_count": 7,
   "metadata": {},
   "outputs": [],
   "source": [
    "def create_K_folds(x,y,k=10):\n",
    "    folds = []\n",
    "    length = len(y)\n",
    "    interval = round(length/(k-1))\n",
    "    for i in range (0,length,interval):\n",
    "        train_x_,train_y_ = x[:i] + x[i+interval:] , y[:i] + y[i+interval:]\n",
    "        test_x_, test_y_ = x[i:i+interval], y[i:i+interval]\n",
    "        fold = [train_x_[:],train_y_[:],test_x_[:], test_y_[:]]\n",
    "        folds.append(fold)\n",
    "    if i+interval < length:\n",
    "        train_x_, train_y_ = x[:i+interval] , y[:i+interval] \n",
    "        test_x_ , test_y_ = x[i+interval:] , y[i+interval:]\n",
    "        fold = [train_x_[:],train_y_[:],test_x_[:], test_y_[:]]\n",
    "        folds.append(fold)\n",
    "    return folds\n",
    "\n",
    "def create_K_folds_fam(x,y,k=10):\n",
    "    folds = []\n",
    "    length = len(y)\n",
    "    interval = round(length/(k-1))\n",
    "    for i in range (0,length,interval):\n",
    "        train_x_ = []\n",
    "        train_x_.extend(x[:i].tolist())\n",
    "        train_x_.extend( x[i+interval:].tolist())\n",
    "        train_y_=[]\n",
    "        train_y_.extend( y[:i].tolist() )\n",
    "        train_y_.extend(y[i+interval:].tolist())\n",
    "        test_x_, test_y_ = x[i:i+interval], y[i:i+interval]\n",
    "        fold = [train_x_[:],train_y_[:],test_x_[:], test_y_[:]]\n",
    "        folds.append(fold)\n",
    "    if i+interval < length:\n",
    "        train_x_, train_y_ = x[:i+interval] , y[:i+interval] \n",
    "        test_x_ , test_y_ = x[i+interval:] , y[i+interval:]\n",
    "        print(train_y_[:])\n",
    "        fold = [train_x_[:],train_y_[:],test_x_[:], test_y_[:]]\n",
    "        folds.append(fold)\n",
    "    return folds"
   ]
  },
  {
   "cell_type": "markdown",
   "metadata": {},
   "source": [
    "## Predicting using DSSP dataset\n",
    "In this section we will compute the results for DSSP dataset, and in the end of the notebook these will be discussed. \n",
    "\n",
    "### predicting PSS"
   ]
  },
  {
   "cell_type": "code",
   "execution_count": 8,
   "metadata": {},
   "outputs": [],
   "source": [
    "residue_sequences, structures , SS_dict = loadPSS_data(\"dssp_info.txt\")\n",
    "folds = create_K_folds(residue_sequences, structures)"
   ]
  },
  {
   "cell_type": "code",
   "execution_count": 9,
   "metadata": {},
   "outputs": [],
   "source": [
    "SVC_struct = LinearSVC(C=0.5, penalty='l1', max_iter=Max_iterations, dual=False)\n",
    "CF_matrix = np.zeros([3,3])\n",
    "for train_x,train_y,test_x, test_y in folds:\n",
    "    X_train, Y_train = createPSS_Dataset(*preprocess_PSS_data(train_x, train_y))\n",
    "    X_test, Y_test = createPSS_Dataset(*preprocess_PSS_data(test_x, test_y))\n",
    "    SVC_struct.fit(X_train,Y_train)\n",
    "    matrix = confusion_matrix(Y_test, SVC_struct.predict(X_test))\n",
    "    CF_matrix+= matrix\n",
    "    SVC_struct = LinearSVC(C=0.5, penalty='l1', max_iter=Max_iterations, dual=False)\n",
    "SVC_struct.fit(X_train,Y_train)  \n",
    "results_PSS_DSSP = CF_matrix"
   ]
  },
  {
   "cell_type": "markdown",
   "metadata": {},
   "source": [
    "## predicting the protein family"
   ]
  },
  {
   "cell_type": "code",
   "execution_count": 10,
   "metadata": {},
   "outputs": [],
   "source": [
    "fam_dict = loadFamily_data()\n",
    "x_fam , y_fam = createFamily_dataset(SS_dict, fam_dict)\n",
    "folds_fam = create_K_folds_fam(x_fam , y_fam )"
   ]
  },
  {
   "cell_type": "code",
   "execution_count": 11,
   "metadata": {},
   "outputs": [],
   "source": [
    "SVC_fam =LinearSVC(C=0.5, penalty='l1', max_iter=Max_iterations, dual=False)\n",
    "CF_matrix = np.zeros([3,3])\n",
    "for X_train, Y_train,X_test, Y_test in folds_fam:\n",
    "    SVC_fam.fit(X_train,Y_train)\n",
    "    matrix = confusion_matrix(Y_test, SVC_fam.predict(X_test))\n",
    "    CF_matrix+= matrix\n",
    "    SVC_fam = LinearSVC(C=0.5, penalty='l1', max_iter=Max_iterations, dual=False)\n",
    "SVC_fam.fit(X_train,Y_train)    \n",
    "results_FAM_DSSP = CF_matrix"
   ]
  },
  {
   "cell_type": "markdown",
   "metadata": {},
   "source": [
    "## Predicting using STRIDE dataset\n",
    "In this section we will compute the results for STRIDE dataset, and in the end of the notebook these will be discussed. \n",
    "\n",
    "### predicting PSS"
   ]
  },
  {
   "cell_type": "code",
   "execution_count": 12,
   "metadata": {},
   "outputs": [],
   "source": [
    "residue_sequences, structures , SS_dict = loadPSS_data(\"stride_info.txt\")\n",
    "folds = create_K_folds(residue_sequences, structures)"
   ]
  },
  {
   "cell_type": "code",
   "execution_count": 13,
   "metadata": {},
   "outputs": [],
   "source": [
    "SVC_struct = LinearSVC(C=0.5, penalty='l1', max_iter=Max_iterations, dual=False)\n",
    "CF_matrix = np.zeros([3,3])\n",
    "for train_x,train_y,test_x, test_y in folds:\n",
    "    X_train, Y_train = createPSS_Dataset(*preprocess_PSS_data(train_x, train_y))\n",
    "    X_test, Y_test = createPSS_Dataset(*preprocess_PSS_data(test_x, test_y))\n",
    "    SVC_struct.fit(X_train,Y_train)\n",
    "    matrix = confusion_matrix(Y_test, SVC_struct.predict(X_test))\n",
    "    CF_matrix+= matrix\n",
    "    SVC_struct = LinearSVC(C=0.5, penalty='l1', max_iter=Max_iterations, dual=False)\n",
    "SVC_struct.fit(X_train,Y_train)  \n",
    "results_PSS_STRIDE = CF_matrix"
   ]
  },
  {
   "cell_type": "markdown",
   "metadata": {},
   "source": [
    "## predicting the protein family"
   ]
  },
  {
   "cell_type": "code",
   "execution_count": 14,
   "metadata": {},
   "outputs": [],
   "source": [
    "fam_dict = loadFamily_data()\n",
    "x_fam , y_fam = createFamily_dataset(SS_dict, fam_dict)\n",
    "folds_fam = create_K_folds_fam(x_fam , y_fam )"
   ]
  },
  {
   "cell_type": "code",
   "execution_count": 15,
   "metadata": {},
   "outputs": [],
   "source": [
    "SVC_fam =LinearSVC(C=0.5, penalty='l1', max_iter=Max_iterations, dual=False)\n",
    "CF_matrix = np.zeros([3,3])\n",
    "for X_train, Y_train,X_test, Y_test in folds_fam:\n",
    "    SVC_fam.fit(X_train,Y_train)\n",
    "    matrix = confusion_matrix(Y_test, SVC_fam.predict(X_test))\n",
    "    CF_matrix[:matrix.shape[0], :matrix.shape[1]] += matrix\n",
    "    SVC_fam = LinearSVC(C=0.5, penalty='l1', max_iter=Max_iterations, dual=False)\n",
    "SVC_fam.fit(X_train,Y_train)    \n",
    "#q3,mcc = printStats(CF_matrix, family = True)\n",
    "#print(CF_matrix)\n",
    "results_FAM_STRIDE = CF_matrix"
   ]
  },
  {
   "cell_type": "markdown",
   "metadata": {},
   "source": [
    "# discussing results  <br> \n",
    "We will start by discussing the general accuracy metrices for the entire dataset and afterwards we will evaluate the performance on individual samples. "
   ]
  },
  {
   "cell_type": "code",
   "execution_count": 16,
   "metadata": {},
   "outputs": [
    {
     "name": "stdout",
     "output_type": "stream",
     "text": [
      " Protein secondary structure prediction results on DSSP dataset \n",
      " \n",
      "The MCC score for Beta equal 0.3492467337012902\n",
      "The Q1 score for Beta equal 0.37695934752134574\n",
      "The MCC score for Coil equal 0.42378457524430185\n",
      "The Q1 score for Coil equal 0.7142237785559447\n",
      "The MCC score for Helix equal 0.42206223918078845\n",
      "The Q1 score for Helix equal 0.6639509558764217\n",
      "mean MCC score = 0.3983645160421268\n",
      "mean Q1 score = 0.5850446939845707\n",
      "Q3 score = 0.6214294836320293\n",
      "[[ 5916.  5350.  4428.]\n",
      " [ 2315. 21416.  6254.]\n",
      " [ 2082.  6250. 16462.]]\n",
      " Protein secondary structure prediction results on STRIDE dataset \n",
      " \n",
      "The MCC score for Beta equal 0.34669370565550095\n",
      "The Q1 score for Beta equal 0.37998513747832546\n",
      "The MCC score for Coil equal 0.41693965850319437\n",
      "The Q1 score for Coil equal 0.6932161494095029\n",
      "The MCC score for Helix equal 0.42542248285758655\n",
      "The Q1 score for Helix equal 0.6810764497410133\n",
      "mean MCC score = 0.39635194900542725\n",
      "mean Q1 score = 0.5847592455429472\n",
      "Q3 score = 0.6175355517032401\n",
      "[[ 6136.  5353.  4659.]\n",
      " [ 2426. 20192.  6510.]\n",
      " [ 2165.  6024. 17488.]]\n"
     ]
    }
   ],
   "source": [
    "results = [results_PSS_DSSP,results_FAM_DSSP, results_PSS_STRIDE ,results_FAM_STRIDE ]\n",
    "print(\" Protein secondary structure prediction results on DSSP dataset \\n \")\n",
    "q3,mcc = printStats(results_PSS_DSSP)\n",
    "print(results_PSS_DSSP)\n",
    "print(\" Protein secondary structure prediction results on STRIDE dataset \\n \")\n",
    "q3,mcc = printStats(results_PSS_STRIDE)\n",
    "print(results_PSS_STRIDE)"
   ]
  },
  {
   "cell_type": "code",
   "execution_count": 17,
   "metadata": {},
   "outputs": [
    {
     "name": "stdout",
     "output_type": "stream",
     "text": [
      " Family prediction results on DSSP dataset \n",
      " \n",
      "The MCC score for Beta equal 0.751496750225385\n",
      "The Q1 score for Beta equal 0.65625\n",
      "The MCC score for Alpha equal 0.8827613459686616\n",
      "The Q1 score for Alpha equal 0.8790322580645161\n",
      "The MCC score for Alpha/beta equal 0.7622181902209267\n",
      "The Q1 score for Alpha/beta equal 0.9629629629629629\n",
      "mean MCC score = 0.7988254288049911\n",
      "mean Q1 score = 0.8327484070091596\n",
      "Q3 score = 0.8768898488120951\n",
      "[[ 63.   0.  33.]\n",
      " [  0. 109.  15.]\n",
      " [  3.   6. 234.]]\n",
      " Family  prediction results on STRIDE dataset \n",
      " \n",
      "The MCC score for Beta equal 0.743322692933483\n",
      "The Q1 score for Beta equal 0.6534653465346535\n",
      "The MCC score for Alpha equal 0.8824035586845425\n",
      "The Q1 score for Alpha equal 0.8682170542635659\n",
      "The MCC score for Alpha/beta equal 0.7588071076412477\n",
      "The Q1 score for Alpha/beta equal 0.9651162790697675\n",
      "mean MCC score = 0.7948444530864244\n",
      "mean Q1 score = 0.8289328932893288\n",
      "Q3 score = 0.875\n",
      "[[ 66.   0.  35.]\n",
      " [  0. 112.  17.]\n",
      " [  4.   5. 249.]]\n"
     ]
    }
   ],
   "source": [
    "print(\" Family prediction results on DSSP dataset \\n \")\n",
    "q3,mcc = printStats(results_FAM_DSSP, family = True)\n",
    "print(results_FAM_DSSP)\n",
    "print(\" Family  prediction results on STRIDE dataset \\n \")\n",
    "q3,mcc = printStats(results_FAM_STRIDE, family = True)\n",
    "print(results_FAM_STRIDE)"
   ]
  },
  {
   "cell_type": "markdown",
   "metadata": {},
   "source": [
    "### discussion\n",
    "We see that the Q3 and MCC score are very similar between the two datasets. \n",
    "We can also see that for the PSS dataset the classification \"Beta\" performs by far the worse, this is known to be the most difficult to recognise in bio informatics. <br>\n",
    "\n",
    "For the family classification we see that the overall accuracy is far higher, but also that Beta performs by a little worse than the other classifications.\n",
    "\n"
   ]
  },
  {
   "cell_type": "markdown",
   "metadata": {},
   "source": [
    "## discussing single samples <br>\n",
    "Below we will first define some functions for testing a single sample and writing the output to a file. "
   ]
  },
  {
   "cell_type": "code",
   "execution_count": 18,
   "metadata": {},
   "outputs": [],
   "source": [
    "labels_short = ['E','C','H']\n",
    "natural_acid_short = ['A', 'R', 'N', 'D', 'C', 'E', 'Q', 'G', 'H', 'I', 'L', 'K', 'M', 'F', 'P', 'S', 'T', 'W', 'Y', 'V']\n",
    "def string_to_char_list(string):\n",
    "    lst = []\n",
    "    for c in string:\n",
    "        lst.append(c)\n",
    "    return lst\n",
    "def short_structure_to_long_notation(lst):\n",
    "    result = []\n",
    "    for struct in lst:\n",
    "        index = labels_short.index(struct)\n",
    "        result.append(labels[index])\n",
    "    return result\n",
    "def short_residue_to_long_notation(lst):\n",
    "    result = []\n",
    "    for res in lst:\n",
    "        index = natural_acid_short.index(res)\n",
    "        result.append(natural_acid[index])\n",
    "    return result\n",
    "def index_to_short_structure(lst):\n",
    "    result = []\n",
    "    for index in lst:\n",
    "        result.append(labels_short[index])\n",
    "    return(result)\n",
    "def test_single_sample(residue_sequence,real_secondary_structure,model):\n",
    "    real_secondary_structure_long = short_structure_to_long_notation(real_secondary_structure)\n",
    "    residue_sequence_long = short_residue_to_long_notation(residue_sequence)\n",
    "    x_input, y_target = preprocess_PSS_data([residue_sequence_long],[real_secondary_structure_long])\n",
    "    x_input, y_target = createPSS_Dataset(x_input, y_target)\n",
    "    result = model.predict(x_input)\n",
    "    cf = np.zeros([3,3])\n",
    "    for struct_target, index_predict in zip(real_secondary_structure, result):\n",
    "        index_target = labels_short.index(struct_target)\n",
    "        cf[index_target,index_predict] +=1\n",
    "    return cf, index_to_short_structure(result)\n",
    "def add_line_file(filename, name, sequence, q3,mcc,  family):\n",
    "    file_obj  = open(filename, \"a+\")\n",
    "    sequence = ''.join(sequence)\n",
    "    line = name+ \"\\t\" + sequence + \"\\t\" + str(q3) + \"\\t\" + str(mcc) + \"\\t\" + family +\"\\n\"\n",
    "    file_obj.write(line)"
   ]
  },
  {
   "cell_type": "markdown",
   "metadata": {},
   "source": [
    "## Sample 1 : 1ava C <br>\n",
    "\n",
    "Below we wil evaluate the accuracy metrices for a single sample when predicted using the SVM.<br>\n",
    "We also do family prediction using similar sequences, retrieved from uniprot.org for protein family prediction.<br>\n",
    "\n"
   ]
  },
  {
   "cell_type": "code",
   "execution_count": 19,
   "metadata": {},
   "outputs": [
    {
     "name": "stdout",
     "output_type": "stream",
     "text": [
      "The MCC score for Beta equal 0.26846544835723013\n",
      "The Q1 score for Beta equal 0.3013698630136986\n",
      "The MCC score for Coil equal 0.2656360343355284\n",
      "The Q1 score for Coil equal 0.6470588235294118\n",
      "The MCC score for Helix equal 0.016485992856579968\n",
      "The Q1 score for Helix equal 0.3333333333333333\n",
      "mean MCC score = 0.18352915851644616\n",
      "mean Q1 score = 0.42725400662548124\n",
      "Q3 score = 0.4972375690607735\n",
      "protein family was Beta and model predicted :Beta\n"
     ]
    }
   ],
   "source": [
    "name = \"1ava C\" \n",
    "residue_sequence = string_to_char_list(\"ADPPPVHDTDGHELRADANYYVLSANRAHGGGLTMAP\\\n",
    "GHGRHCPLFVSQDPNGQHDGFPVRITPYGVAPSDKIIR\\\n",
    "LSTDVRISFRAYTTCLQSTEWHIDSELAAGRRHVITGPVKDPSPSGRENAFRIEKYSGAEVHEYKLMSCGDWCQD\\\n",
    "LGVFRDLKGGAWFLGATEPYHVVVFKKAPPA\")\n",
    "real_secondary_structure = string_to_char_list(\"CCCCECECCCCCECECCCEEEEEECCHHHCCCEEEEEECCEEEEEEEEECCCCCCCCCCE\\\n",
    "EEEECCCCCCCCECECCCCEEEEECCCCCCCCCCECEECCCCECCECEEECCCCCCCCCC\\\n",
    "CHHHCEEEEECECCCCCCEEEEEECCCEEECEEECCCCCCCCEEECCCCECCEEEEEECC\\\n",
    "C\")\n",
    "matrix,prediction = test_single_sample(residue_sequence,real_secondary_structure,SVC_struct)\n",
    "q3,mcc = printStats(matrix)\n",
    "long_sec_struct = {name:short_structure_to_long_notation(real_secondary_structure)}\n",
    "family = {name:\"Beta\"}\n",
    "x_input , y_input = createFamily_dataset(long_sec_struct, family)\n",
    "prediction_family = SVC_fam.predict(x_input)\n",
    "prediction_family = families[prediction_family[0]]\n",
    "print(\"protein family was \"+family[name]+ \" and model predicted :\" + prediction_family)\n",
    "add_line_file(outputfile, name, prediction, q3, mcc , prediction_family )"
   ]
  },
  {
   "cell_type": "markdown",
   "metadata": {},
   "source": [
    "### prediction using similar sequences"
   ]
  },
  {
   "cell_type": "code",
   "execution_count": 20,
   "metadata": {},
   "outputs": [
    {
     "name": "stdout",
     "output_type": "stream",
     "text": [
      "protein family was Beta and model predicted :Alpha/beta\n"
     ]
    }
   ],
   "source": [
    "blast_sequences = \"LASTALSRSADPPPVHDTDGHELRADANYYVLSANRAHGGGLTMAPGHGRLCPLFVSQDP\\\n",
    "NGQHDGFPVRITPYGVAPSDKIIRLSTDVRISFRAYTTCLQSTEWHIDSELAAGRRHVIT\\\n",
    "GPVKDPSPSGRENAFRIEKYSGAEVHEYKLMSCGDWCQDLGVFRDLKGGAWFLGATEPYH\\\n",
    "VVVFKKAPPA\",\"DPPPVHDTDGNELRADANYYVLPANRAHGGGLTMAPGHGRRCPLFVSQEADGQRDGLPVR\\\n",
    "IAPHGGAPSDKIIRLSTDVRISFRAYTTCVQSTEWHIDSELVSGRRHVITGPVRDPSPSG\\\n",
    "RENAFRIEKYSGAEVHEYKLMACGDSCQDLGVFRDLKGGAWFLGATEPYHVVVFKKAPPA\",\n",
    "\"MSSRRVGLLLLSLLATTLTCSADPPPVHDTDGNELRTDANYYVLPANRAHGGGLTMAPGH\\\n",
    "GRRCPLFVSQEADGQRDGLPVRIAPHGGAPSDKIIRLSTDVRISFRAYTTCVQSTEWHID\\\n",
    "SELVSGRRHVITGPVRDPSPSGRENAFRIEKYSGAEVHEYKLMACGDSCQDLGVFRDLKG\\\n",
    "GAWFLGATEPYHVVVFKKAPPA\",\"MSSRRVGLLLLSLLATTLSYSADPPPVHDTDGNELRADANYYILPANRAHGGGLTMAPGH\\\n",
    "GRRCPLFVSQEADGQRDGLPVRIAPHGGGAPSDKIIRLSTDVRISFRAYTTCVQSTEWHI\\\n",
    "DSELVSGRRHVITGPVRDPSPSGRENAFRIEKYSGAEVHEYKLMACGDSCQDLGVFRDLK\\\n",
    "GGAWFLGATEPYHVIVF\",\"VRITPYGVAPSDKIIRLSTDVRISFRAYTTCLQSTEWHIDSELAAGRRHVITGPVKDPSP\\\n",
    "SGRENAFRIEKYSGAEVHEYKLMSCGDWCQDLGVFRDLKGGAWFLGATEPYHVVVFKKAP\\\n",
    "PA\"\n",
    "predictions_PSS_blast = []\n",
    "predictions_FAM_blast = []\n",
    "for s in blast_sequences:\n",
    "    s = string_to_char_list(s)\n",
    "    matrix,prediction = test_single_sample(s,['C' for i in range(0,len(s))],SVC_struct)\n",
    "    long_sec_struct = {name:short_structure_to_long_notation(prediction)}\n",
    "    x_input , y_input = createFamily_dataset(long_sec_struct, family)\n",
    "    prediction_family = SVC_fam.predict(x_input)\n",
    "    predictions_PSS_blast.append(prediction)\n",
    "    predictions_FAM_blast.append(prediction_family) \n",
    "print(\"protein family was \"+family[name]+ \" and model predicted :\" + families[int(np.mean(predictions_FAM_blast))])"
   ]
  },
  {
   "cell_type": "code",
   "execution_count": 25,
   "metadata": {},
   "outputs": [
    {
     "name": "stdout",
     "output_type": "stream",
     "text": [
      "The MCC score for Beta equal 0.30583742680051546\n",
      "The Q1 score for Beta equal 0.4230769230769231\n",
      "The MCC score for Coil equal 0.4844330006524664\n",
      "The Q1 score for Coil equal 0.7352941176470589\n",
      "The MCC score for Helix equal 0.4118010583715828\n",
      "The Q1 score for Helix equal 0.6448598130841121\n",
      "mean MCC score = 0.4006904952748549\n",
      "mean Q1 score = 0.6010769512693647\n",
      "Q3 score = 0.6467661691542289\n",
      "protein family was Alpha/beta and model predicted :Beta\n"
     ]
    }
   ],
   "source": [
    "name = \"1avm A\" \n",
    "residue_sequence = string_to_char_list(\"AVYTLPELPYDYSALEPYISGEIMELHHDKHHKAYVDGANTALDKLAEARDKADFGAINKLEKDLAFNLAGHVNH\\\n",
    "SVFWKNMAPKGSAPERPTDELGAAIDEFFGSFDNMKAQFTAAATGIQGSGWASLVWDPLGKRINTLQFYDHQNNL\\\n",
    "PAGSIPLLQLDMWEHAFYLQYKNVKGDYVKSWWNVVNWDDVALRFSEARVA\")\n",
    "real_secondary_structure = string_to_char_list(\"CCCCCCCCCCCCCCCCCCCCHHHHHHHHHCHHHHHHHHHHHHHHHHHHHHHHCCCCCHHH\\\n",
    "HHHHHHHHHHHHHHHHHHHHCECCCCCCCCCCCHHHHHHHHHHHCCHHHHHHHHHHHHHC\\\n",
    "CCCCEEEEEEEECCCCEEEEEEEECCCECCCCCCEEEEEEECCHHHCHHHHCCCHHHHHH\\\n",
    "HHHHHECHHHHHHHHHHHCCC\")\n",
    "matrix,prediction = test_single_sample(residue_sequence,real_secondary_structure,SVC_struct)\n",
    "q3,mcc = printStats(matrix)\n",
    "long_sec_struct = {name:short_structure_to_long_notation(real_secondary_structure)}\n",
    "family = {name:\"Alpha/beta\"}\n",
    "x_input , y_input = createFamily_dataset(SS_dict, fam_dict)\n",
    "prediction_family = SVC_fam.predict(x_input)\n",
    "prediction_family = families[prediction_family[0]]\n",
    "print(\"protein family was \"+family[name]+ \" and model predicted :\" + prediction_family)\n",
    "add_line_file(outputfile, name, prediction, q3, mcc , prediction_family )"
   ]
  },
  {
   "cell_type": "markdown",
   "metadata": {},
   "source": [
    "### prediction using similar sequences"
   ]
  },
  {
   "cell_type": "code",
   "execution_count": 26,
   "metadata": {
    "scrolled": true
   },
   "outputs": [
    {
     "name": "stdout",
     "output_type": "stream",
     "text": [
      "protein family was Alpha/beta and model predicted :Alpha/beta\n"
     ]
    }
   ],
   "source": [
    "blast_sequences = \"LASTALSRSADPPPVHDTDGHELRADANYYVLSANRAHGGGLTMAPGHGRLCPLFVSQDP\\\n",
    "NGQHDGFPVRITPYGVAPSDKIIRLSTDVRISFRAYTTCLQSTEWHIDSELAAGRRHVIT\\\n",
    "GPVKDPSPSGRENAFRIEKYSGAEVHEYKLMSCGDWCQDLGVFRDLKGGAWFLGATEPYH\\\n",
    "VVVFKKAPPA\",\"DPPPVHDTDGNELRADANYYVLPANRAHGGGLTMAPGHGRRCPLFVSQEADGQRDGLPVR\\\n",
    "IAPHGGAPSDKIIRLSTDVRISFRAYTTCVQSTEWHIDSELVSGRRHVITGPVRDPSPSG\\\n",
    "RENAFRIEKYSGAEVHEYKLMACGDSCQDLGVFRDLKGGAWFLGATEPYHVVVFKKAPPA\",\n",
    "\"MSSRRVGLLLLSLLATTLTCSADPPPVHDTDGNELRTDANYYVLPANRAHGGGLTMAPGH\\\n",
    "GRRCPLFVSQEADGQRDGLPVRIAPHGGAPSDKIIRLSTDVRISFRAYTTCVQSTEWHID\\\n",
    "SELVSGRRHVITGPVRDPSPSGRENAFRIEKYSGAEVHEYKLMACGDSCQDLGVFRDLKG\\\n",
    "GAWFLGATEPYHVVVFKKAPPA\",\"MSSRRVGLLLLSLLATTLSYSADPPPVHDTDGNELRADANYYILPANRAHGGGLTMAPGH\\\n",
    "GRRCPLFVSQEADGQRDGLPVRIAPHGGGAPSDKIIRLSTDVRISFRAYTTCVQSTEWHI\\\n",
    "DSELVSGRRHVITGPVRDPSPSGRENAFRIEKYSGAEVHEYKLMACGDSCQDLGVFRDLK\\\n",
    "GGAWFLGATEPYHVIVF\",\"VRITPYGVAPSDKIIRLSTDVRISFRAYTTCLQSTEWHIDSELAAGRRHVITGPVKDPSP\\\n",
    "SGRENAFRIEKYSGAEVHEYKLMSCGDWCQDLGVFRDLKGGAWFLGATEPYHVVVFKKAP\\\n",
    "PA\"\n",
    "predictions_PSS_blast = []\n",
    "predictions_FAM_blast = []\n",
    "for s in blast_sequences:\n",
    "    s = string_to_char_list(s)\n",
    "    matrix,prediction = test_single_sample(s,['C' for i in range(0,len(s))],SVC_struct)\n",
    "    long_sec_struct = {name:short_structure_to_long_notation(prediction)}\n",
    "    x_input , y_input = createFamily_dataset(long_sec_struct, family)\n",
    "    prediction_family = SVC_fam.predict(x_input)\n",
    "    predictions_PSS_blast.append(prediction)\n",
    "    predictions_FAM_blast.append(prediction_family) \n",
    "print(\"protein family was \"+family[name]+ \" and model predicted :\" + families[int(np.mean(predictions_FAM_blast))])"
   ]
  }
 ],
 "metadata": {
  "kernelspec": {
   "display_name": "Python 3",
   "language": "python",
   "name": "python3"
  },
  "language_info": {
   "codemirror_mode": {
    "name": "ipython",
    "version": 3
   },
   "file_extension": ".py",
   "mimetype": "text/x-python",
   "name": "python",
   "nbconvert_exporter": "python",
   "pygments_lexer": "ipython3",
   "version": "3.6.5"
  }
 },
 "nbformat": 4,
 "nbformat_minor": 2
}
